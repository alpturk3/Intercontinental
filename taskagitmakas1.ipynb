{
  "nbformat": 4,
  "nbformat_minor": 0,
  "metadata": {
    "colab": {
      "name": "taskagitmakas.ipynb",
      "provenance": [],
      "collapsed_sections": [],
      "include_colab_link": true
    },
    "kernelspec": {
      "name": "python3",
      "display_name": "Python 3"
    }
  },
  "cells": [
    {
      "cell_type": "markdown",
      "metadata": {
        "id": "view-in-github",
        "colab_type": "text"
      },
      "source": [
        "<a href=\"https://colab.research.google.com/github/alpturk3/Intercontinental/blob/main/taskagitmakas1.ipynb\" target=\"_parent\"><img src=\"https://colab.research.google.com/assets/colab-badge.svg\" alt=\"Open In Colab\"/></a>"
      ]
    },
    {
      "cell_type": "code",
      "metadata": {
        "id": "qysoXm-3rVjP",
        "outputId": "d91ad2dd-866d-42db-e30f-c0aaaea3c732",
        "colab": {
          "base_uri": "https://localhost:8080/"
        }
      },
      "source": [
        "import random\n",
        "a = ('tas', 'kagit', 'makas')\n",
        "ekle = []\n",
        "i = 0\n",
        "for i in range(100) :\n",
        " x = random.choice(a)\n",
        " y = random.choice(a)\n",
        " \n",
        " if x == y:\n",
        "  ekle.append('draw')\n",
        " elif (x == 'tas' and y == 'makas') or (x == 'kagit' and y == 'tas') or (x == 'makas' and y == 'kagit'):\n",
        "  ekle.append('x wins')\n",
        " else:\n",
        "  ekle.append('y wins')\n",
        "print(ekle)\n",
        "print(ekle.count('draw'))\n",
        "print(ekle.count('x wins'))\n",
        "print(ekle.count('y wins'))\n",
        "\n"
      ],
      "execution_count": 5,
      "outputs": [
        {
          "output_type": "stream",
          "text": [
            "['x wins', 'y wins', 'draw', 'x wins', 'x wins', 'draw', 'x wins', 'y wins', 'draw', 'x wins', 'y wins', 'x wins', 'x wins', 'x wins', 'draw', 'y wins', 'draw', 'y wins', 'x wins', 'draw', 'y wins', 'y wins', 'y wins', 'draw', 'draw', 'y wins', 'draw', 'y wins', 'draw', 'x wins', 'draw', 'y wins', 'y wins', 'y wins', 'y wins', 'y wins', 'y wins', 'draw', 'y wins', 'y wins', 'y wins', 'y wins', 'y wins', 'x wins', 'draw', 'draw', 'x wins', 'draw', 'x wins', 'draw', 'y wins', 'draw', 'x wins', 'x wins', 'x wins', 'y wins', 'x wins', 'draw', 'draw', 'draw', 'y wins', 'draw', 'draw', 'draw', 'x wins', 'draw', 'y wins', 'draw', 'draw', 'draw', 'draw', 'y wins', 'draw', 'y wins', 'draw', 'x wins', 'draw', 'draw', 'y wins', 'x wins', 'x wins', 'y wins', 'y wins', 'draw', 'x wins', 'x wins', 'draw', 'draw', 'draw', 'y wins', 'draw', 'draw', 'y wins', 'x wins', 'y wins', 'y wins', 'x wins', 'draw', 'y wins', 'y wins']\n",
            "39\n",
            "25\n",
            "36\n"
          ],
          "name": "stdout"
        }
      ]
    },
    {
      "cell_type": "code",
      "metadata": {
        "id": "Ttlx3Ex5r_OR"
      },
      "source": [
        ""
      ],
      "execution_count": null,
      "outputs": []
    }
  ]
}