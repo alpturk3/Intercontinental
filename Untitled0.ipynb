{
  "nbformat": 4,
  "nbformat_minor": 0,
  "metadata": {
    "colab": {
      "name": "Untitled0.ipynb",
      "provenance": [],
      "collapsed_sections": []
    },
    "kernelspec": {
      "name": "python3",
      "display_name": "Python 3"
    }
  },
  "cells": [
    {
      "cell_type": "code",
      "metadata": {
        "id": "qysoXm-3rVjP"
      },
      "source": [
        "import random\n",
        "a = ('tas', 'kagit', 'makas')\n",
        "ekle = []\n",
        "i = 0\n",
        "for i in range(100) :\n",
        " x = random.choice(a)\n",
        " y = random.choice(a)\n",
        " \n",
        " if x == y:\n",
        "  ekle.append('draw')\n",
        " elif (x == 'tas' and y == 'makas') or (x == 'kagit' and y == 'tas') or (x == 'makas' and y == 'kagit'):\n",
        "  ekle.append('x wins')\n",
        " else:\n",
        "  ekle.append('y wins')\n",
        "print(ekle)\n",
        "print(ekle.count('draw'))\n",
        "print(ekle.count('x wins'))\n",
        "print(ekle.count('y wins'))\n",
        "\n"
      ],
      "execution_count": null,
      "outputs": []
    },
    {
      "cell_type": "code",
      "metadata": {
        "id": "Ttlx3Ex5r_OR"
      },
      "source": [
        ""
      ],
      "execution_count": null,
      "outputs": []
    }
  ]
}