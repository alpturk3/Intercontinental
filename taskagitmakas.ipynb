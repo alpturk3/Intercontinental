{
  "nbformat": 4,
  "nbformat_minor": 0,
  "metadata": {
    "colab": {
      "name": "taskagitmakas.ipynb",
      "provenance": [],
      "collapsed_sections": [],
      "include_colab_link": true
    },
    "kernelspec": {
      "name": "python3",
      "display_name": "Python 3"
    }
  },
  "cells": [
    {
      "cell_type": "markdown",
      "metadata": {
        "id": "view-in-github",
        "colab_type": "text"
      },
      "source": [
        "<a href=\"https://colab.research.google.com/github/alpturk3/Intercontinental/blob/main/taskagitmakas.ipynb\" target=\"_parent\"><img src=\"https://colab.research.google.com/assets/colab-badge.svg\" alt=\"Open In Colab\"/></a>"
      ]
    },
    {
      "cell_type": "code",
      "metadata": {
        "id": "qysoXm-3rVjP",
        "outputId": "7890d0ba-b6b5-4cc3-82db-7514073abee3",
        "colab": {
          "base_uri": "https://localhost:8080/"
        }
      },
      "source": [
        "import random\n",
        "a = ('tas', 'kagit', 'makas')\n",
        "ekle = []\n",
        "i = 0\n",
        "for i in range(2) :\n",
        " x = input (\"make your choice \") \n",
        " y = random.choice(a)\n",
        " \n",
        " if x == y:\n",
        "  ekle.append('draw')\n",
        " elif (x == 'tas' and y == 'makas') or (x == 'kagit' and y == 'tas') or (x == 'makas' and y == 'kagit'):\n",
        "  ekle.append('x wins')\n",
        " else:\n",
        "  ekle.append('y wins')\n",
        "print(ekle)\n",
        "print(ekle.count('draw'))\n",
        "print(ekle.count('x wins'))\n",
        "print(ekle.count('y wins'))\n",
        "\n"
      ],
      "execution_count": 14,
      "outputs": [
        {
          "output_type": "stream",
          "text": [
            "make your choice kagit\n",
            "make your choice makas\n",
            "['draw', 'x wins']\n",
            "1\n",
            "1\n",
            "0\n"
          ],
          "name": "stdout"
        }
      ]
    },
    {
      "cell_type": "code",
      "metadata": {
        "id": "Ttlx3Ex5r_OR"
      },
      "source": [
        ""
      ],
      "execution_count": null,
      "outputs": []
    }
  ]
}