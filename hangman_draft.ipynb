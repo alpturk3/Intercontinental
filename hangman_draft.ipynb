{
  "nbformat": 4,
  "nbformat_minor": 0,
  "metadata": {
    "colab": {
      "name": "Untitled0.ipynb",
      "provenance": [],
      "authorship_tag": "ABX9TyMdmoxIpeJl2Flaa3eKldsg",
      "include_colab_link": true
    },
    "kernelspec": {
      "name": "python3",
      "display_name": "Python 3"
    }
  },
  "cells": [
    {
      "cell_type": "markdown",
      "metadata": {
        "id": "view-in-github",
        "colab_type": "text"
      },
      "source": [
        "<a href=\"https://colab.research.google.com/github/alpturk3/Intercontinental/blob/main/hangman_draft.ipynb\" target=\"_parent\"><img src=\"https://colab.research.google.com/assets/colab-badge.svg\" alt=\"Open In Colab\"/></a>"
      ]
    },
    {
      "cell_type": "code",
      "metadata": {
        "colab": {
          "base_uri": "https://localhost:8080/"
        },
        "id": "OexctxH-tMi5",
        "outputId": "9c13ad76-e45c-420d-8e9a-03204d1b8d03"
      },
      "source": [
        "x = ['arkadas' , ' mouse', 'apofisek', ' bilgisayar', 'dezenfektan' , 'telefon', 'esofman' , 'masa' , 'yaprak' , 'toprak' , 'makara','filikya', 'comolokko', 'hakkari', 'virgul', 'meyve', 'zebze', 'mus', 'muz', 'apofisek''makina', 'sandalye', 'masa', 'koltuk', 'defter', 'benzin', 'matara', 'termos', 'pantalon']\n",
        "\n",
        "import random \n",
        "import string\n",
        "\n",
        "w = list(random.choice(x))\n",
        "v = \"\".join(w)\n",
        "print(v)\n",
        "z = len(w)\n",
        "print(z)\n",
        "#print(w)\n",
        "h = z+3\n",
        "#print(h)\n",
        "for i in range(h):\n",
        "  harftahmini = input()\n",
        "  kelimetahmini = input()\n",
        "  if harftahmini in w or kelimetahmini == v:\n",
        "    print(\"true\")\n",
        "    print(v.count(harftahmini))\n",
        "  else:\n",
        "   print(\"false\")\n"
      ],
      "execution_count": null,
      "outputs": [
        {
          "output_type": "stream",
          "text": [
            "muz\n",
            "3\n",
            "\n",
            "muz\n",
            "true\n",
            "4\n"
          ],
          "name": "stdout"
        }
      ]
    },
    {
      "cell_type": "code",
      "metadata": {
        "id": "XDsU4CoA1aQZ"
      },
      "source": [
        ""
      ],
      "execution_count": null,
      "outputs": []
    }
  ]
}