{
  "nbformat": 4,
  "nbformat_minor": 0,
  "metadata": {
    "colab": {
      "name": "passwordgenerator.ipynb",
      "provenance": [],
      "authorship_tag": "ABX9TyO9Q3O8hMlEpNHS5j8XsV04",
      "include_colab_link": true
    },
    "kernelspec": {
      "name": "python3",
      "display_name": "Python 3"
    }
  },
  "cells": [
    {
      "cell_type": "markdown",
      "metadata": {
        "id": "view-in-github",
        "colab_type": "text"
      },
      "source": [
        "<a href=\"https://colab.research.google.com/github/alpturk3/Intercontinental/blob/main/passwordgenerator.ipynb\" target=\"_parent\"><img src=\"https://colab.research.google.com/assets/colab-badge.svg\" alt=\"Open In Colab\"/></a>"
      ]
    },
    {
      "cell_type": "code",
      "metadata": {
        "id": "MyWNJSy2265o",
        "colab": {
          "base_uri": "https://localhost:8080/"
        },
        "outputId": "4ae70131-3f7f-434b-bb98-d2d6e843037d"
      },
      "source": [
        "import random\n",
        "import string\n",
        "password = []\n",
        "a = string.ascii_lowercase\n",
        "b = string.ascii_uppercase\n",
        "c = string.digits\n",
        "d = string.punctuation\n",
        "\n",
        "m = 5 #lowercase , ENTER THE NUMBER HERE\n",
        "n = 2 #uppercase, ENTER THE NUMBER HERE\n",
        "k = 6 #digits, ENTER THE NUMBER HERE\n",
        "l = 3 #punctuation, ENTER THE NUMBER HERE\n",
        "h = m+n+k+l\n",
        "\n",
        "for i in range (h):\n",
        "  if m != 0:\n",
        "    x = random.choice(a) #Chosing a random lowercase letter for x\n",
        "    password.append(x) #Adding chosen letter to 'password matrix'\n",
        "    m = m-1 #Substracting 1 for further iterations\n",
        "  if n != 0:\n",
        "    y = random.choice(b)\n",
        "    password.append(y)\n",
        "    n = n-1\n",
        "  if k != 0:\n",
        "    z = random.choice(c)\n",
        "    password.append(z)\n",
        "    k = k-1\n",
        "  if l != 0:\n",
        "    w = random.choice(d)\n",
        "    password.append(w)\n",
        "    l = l-1\n",
        " \n",
        "password = ''.join(password) #joining the elements of the matrix to make one single string\n",
        "print(password)\n",
        "\n",
        "shuffle_password = ''.join(random.sample(password,len(password))) # shuffles the joined string\n",
        "print(shuffle_password)\n"
      ],
      "execution_count": null,
      "outputs": [
        {
          "output_type": "stream",
          "text": [
            "cB5=rZ0}r2_z5i82\n",
            "rZ5zic5B8_2}0r=2\n"
          ],
          "name": "stdout"
        }
      ]
    }
  ]
}