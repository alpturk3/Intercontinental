{
  "nbformat": 4,
  "nbformat_minor": 0,
  "metadata": {
    "colab": {
      "name": "passwordgenerator.ipynb shortened",
      "provenance": [],
      "include_colab_link": true
    },
    "kernelspec": {
      "name": "python3",
      "display_name": "Python 3"
    }
  },
  "cells": [
    {
      "cell_type": "markdown",
      "metadata": {
        "id": "view-in-github",
        "colab_type": "text"
      },
      "source": [
        "<a href=\"https://colab.research.google.com/github/alpturk3/Intercontinental/blob/main/passwordgenerator1.ipynb\" target=\"_parent\"><img src=\"https://colab.research.google.com/assets/colab-badge.svg\" alt=\"Open In Colab\"/></a>"
      ]
    },
    {
      "cell_type": "code",
      "metadata": {
        "id": "MyWNJSy2265o",
        "colab": {
          "base_uri": "https://localhost:8080/"
        },
        "outputId": "97d712c1-466e-4a38-e321-8a14df25f663"
      },
      "source": [
        "import random\n",
        "import string\n",
        "password = []\n",
        "\n",
        "m = int(input(\"Please enter the number of lowercase letters: \"))\n",
        "n = int(input(\"Please enter the number of uppercase letters: \"))\n",
        "k = int(input(\"Please enter the number of digits: \"))\n",
        "l = int(input(\"Please enter the number of punctuation: \"))\n",
        "h = m+n+k+l\n",
        "\n",
        "for i in range (h):\n",
        "  if m != 0:\n",
        "    x = random.choice(string.ascii_lowercase) #Chosing a random lowercase letter for x\n",
        "    password.append(x) #Adding chosen letter to 'password matrix'\n",
        "    m = m-1 #Substracting 1 for further iterations\n",
        "  if n != 0:\n",
        "    y = random.choice(string.ascii_uppercase)\n",
        "    password.append(y)\n",
        "    n = n-1\n",
        "  if k != 0:\n",
        "    z = random.choice(string.digits)\n",
        "    password.append(z)\n",
        "    k = k-1\n",
        "  if l != 0:\n",
        "    w = random.choice(string.punctuation)\n",
        "    password.append(w)\n",
        "    l = l-1\n",
        "\n",
        "shuffle_password = ''.join(random.sample(password,len(password))) # shuffles the joined string\n",
        "print(shuffle_password)\n"
      ],
      "execution_count": 2,
      "outputs": [
        {
          "output_type": "stream",
          "text": [
            "Please enter the number of lowercase letters: 5\n",
            "Please enter the number of uppercase letters: 4\n",
            "Please enter the number of digits: 7\n",
            "Please enter the number of punctuation: 4\n",
            "<%i=aIz7q906!27Q2fLV\n"
          ],
          "name": "stdout"
        }
      ]
    }
  ]
}